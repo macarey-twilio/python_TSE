{
  "nbformat": 4,
  "nbformat_minor": 0,
  "metadata": {
    "colab": {
      "name": "TSE Coding Test (Python)",
      "provenance": [],
      "collapsed_sections": [],
      "authorship_tag": "ABX9TyMCCJRcij7ZZW9b2g5I8B0D"
    },
    "kernelspec": {
      "name": "python3",
      "display_name": "Python 3"
    },
    "language_info": {
      "name": "python"
    }
  },
  "cells": [
    {
      "cell_type": "markdown",
      "metadata": {
        "id": "R1oxhdv3_x7j"
      },
      "source": [
        "Install the latest version of the Twilio Helper Library from Python. \n",
        "\n",
        "You can use documentation here if you need a hint: https://github.com/twilio/twilio-python"
      ]
    },
    {
      "cell_type": "code",
      "metadata": {
        "id": "5lpBX-qB9Sms"
      },
      "source": [
        "pip install ..."
      ],
      "execution_count": null,
      "outputs": []
    },
    {
      "cell_type": "markdown",
      "metadata": {
        "id": "XgnnEqrvAYu_"
      },
      "source": [
        "Using the Twilio documentation, explain to your interviewer how they will create an API KEY / Secret.\n",
        "\n",
        "Your interviewer will share their screen, and you can walk them through.\n",
        "\n",
        "You can use the documentation here if you need a hint: https://www.twilio.com/docs/glossary/what-is-an-api-key\n",
        "\n",
        "Once you have an API Key/Secret from your interviewer, input it, and you can move on to the next block"
      ]
    },
    {
      "cell_type": "code",
      "metadata": {
        "id": "DDoUCgtm9yMJ"
      },
      "source": [
        "#Enter your ACCOUNT_SID/AUTH_TOKEN or APIKEY/SECRET\n",
        "API_KEY = \"\" #@param {type:\"string\"}\n",
        "SECRET = \"\" #@param {type:\"string\"}"
      ],
      "execution_count": null,
      "outputs": []
    },
    {
      "cell_type": "markdown",
      "metadata": {
        "id": "1MkrgY00_HHI"
      },
      "source": [
        "Fix the code sample below... Answer the following questions\n",
        "\n",
        "1. Will it run? If not, what do you need to change?\n",
        "2. Is the correct carrier name showing up? If not, what do you need to do to make this work?\n",
        "\n",
        "You can use documentation here if you need a hint: https://www.twilio.com/docs/lookup/quickstart"
      ]
    },
    {
      "cell_type": "code",
      "metadata": {
        "id": "hM1WB1Uu9qKl"
      },
      "source": [
        "client = Client(API_KEY, SECRET)\n",
        "\n",
        "phone_number = client.lookups \\\n",
        "                     .v1 \\\n",
        "                     .phone_numbers('+16152067018') \\\n",
        "                     .fetch(country_code='US', ...)\n",
        "\n",
        "print(phone_number.carrier)"
      ],
      "execution_count": null,
      "outputs": []
    },
    {
      "cell_type": "markdown",
      "metadata": {
        "id": "xH6B6hwfDEY_"
      },
      "source": [
        "Enable Debug Logging, and run the \"fixed\" code block. Be sure to copy the code into the new block below instead of editing your previous code.\n",
        "\n",
        "You can use the documentation here if you need a hint: https://github.com/twilio/twilio-python"
      ]
    },
    {
      "cell_type": "code",
      "metadata": {
        "id": "QoOeX4TBCUeV"
      },
      "source": [
        "# input your code here"
      ],
      "execution_count": null,
      "outputs": []
    },
    {
      "cell_type": "markdown",
      "metadata": {
        "id": "uKl1Zp5iDslI"
      },
      "source": [
        "Create a list with the following numbers, and loop through the list performing a lookup for each one\n",
        "\n",
        "* +12146500001\n",
        "* +16167067393\n",
        "* +16156668219\n",
        "* +12163242835\n",
        "* +13193844357"
      ]
    },
    {
      "cell_type": "code",
      "metadata": {
        "id": "pX7Bwq_OEIJ8"
      },
      "source": [
        "# input your code here"
      ],
      "execution_count": null,
      "outputs": []
    },
    {
      "cell_type": "markdown",
      "metadata": {
        "id": "qsxl96hIFJQp"
      },
      "source": [
        "Change logging to only show CRITICAL errors. Be sure to copy the code into the new block below instead of editing your previous code.\n",
        "\n",
        "You can use the documentation here if you need a hint: https://docs.python.org/3/library/logging.html#levels"
      ]
    },
    {
      "cell_type": "code",
      "metadata": {
        "id": "x1xd9tGYFMLY"
      },
      "source": [
        "# input your code here"
      ],
      "execution_count": null,
      "outputs": []
    }
  ]
}